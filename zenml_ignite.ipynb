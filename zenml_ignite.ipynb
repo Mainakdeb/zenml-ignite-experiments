{
  "nbformat": 4,
  "nbformat_minor": 0,
  "metadata": {
    "colab": {
      "name": "zenml_ignite.ipynb",
      "provenance": [],
      "collapsed_sections": []
    },
    "kernelspec": {
      "name": "python3",
      "display_name": "Python 3"
    },
    "language_info": {
      "name": "python"
    }
  },
  "cells": [
    {
      "cell_type": "code",
      "execution_count": null,
      "metadata": {
        "id": "D9HjjqrCgLpv"
      },
      "outputs": [],
      "source": [
        "%%capture\n",
        "!pip install pytorch-ignite\n",
        "!pip install zenml\n",
        "!pip install pyparsing==2.4.2"
      ]
    },
    {
      "cell_type": "markdown",
      "source": [
        "Before proceeding : \n",
        "* Restart runtime in order to use newly installed versions \n",
        "\n",
        "* Then run the cells below"
      ],
      "metadata": {
        "id": "awg9ACXzl_FN"
      }
    },
    {
      "cell_type": "code",
      "source": [
        "import torch\n",
        "from torch import nn\n",
        "from torch.utils.data import DataLoader\n",
        "from torchvision import datasets, transforms\n",
        "from torchvision.transforms import ToTensor\n",
        "import torch.nn.functional as F\n",
        "import torch.optim as optim\n",
        "\n",
        "device = \"cuda\" if torch.cuda.is_available() else \"cpu\"\n",
        "\n",
        "from ignite.contrib.handlers import ProgressBar\n",
        "from ignite.engine import Engine\n",
        "from ignite.metrics import Accuracy\n",
        "from ignite.engine import Events\n",
        "\n",
        "from zenml.integrations.constants import PYTORCH\n",
        "from zenml.pipelines import pipeline\n",
        "from zenml.steps import Output, step, BaseStepConfig"
      ],
      "metadata": {
        "id": "2rRcbIRMTDLI"
      },
      "execution_count": null,
      "outputs": []
    },
    {
      "cell_type": "code",
      "source": [
        "class Net(nn.Module):\n",
        "    def __init__(self):\n",
        "        super(Net, self).__init__()\n",
        "        self.fc1 = nn.Linear(784, 500)\n",
        "        self.fc2 = nn.Linear(500, 10)\n",
        "\n",
        "    def forward(self, x):\n",
        "        x = x.view(-1, 784)\n",
        "        x = self.fc1(x)\n",
        "        x = F.relu(x)\n",
        "        x = self.fc2(x)\n",
        "        return F.log_softmax(x, dim=1)"
      ],
      "metadata": {
        "id": "QBrQgo5mS9Co"
      },
      "execution_count": null,
      "outputs": []
    },
    {
      "cell_type": "code",
      "source": [
        "@step\n",
        "def importer_mnist() -> Output(\n",
        "    train_dataloader=DataLoader,\n",
        "    test_dataloader=DataLoader,\n",
        "):\n",
        "\n",
        "    transform = transforms.Compose([\n",
        "        transforms.ToTensor(),\n",
        "        transforms.Normalize((0.5, ), (0.5, )),\n",
        "    ])\n",
        "\n",
        "    train_set = datasets.MNIST(\n",
        "        \"~/.pytorch/MNIST_data/\", train=True, download=True, transform=transform)\n",
        "    test_set = datasets.MNIST(\n",
        "        \"~/.pytorch/MNIST_data/\", train=False, download=True, transform=transform)\n",
        "\n",
        "    train_loader = torch.utils.data.DataLoader(\n",
        "        train_set, batch_size=256, shuffle=True) \n",
        "\n",
        "    test_loader = torch.utils.data.DataLoader(\n",
        "        test_set, batch_size=256, shuffle=True)\n",
        "    \n",
        "    return train_loader, test_loader"
      ],
      "metadata": {
        "id": "re7dCCUeS8_7"
      },
      "execution_count": null,
      "outputs": []
    },
    {
      "cell_type": "code",
      "source": [
        "def ignite_train_step(engine, batch):\n",
        "    data, targets = batch\n",
        "    model.train()\n",
        "    optimizer.zero_grad()\n",
        "    outputs = model(data)\n",
        "    loss = F.nll_loss(outputs, targets)\n",
        "    loss.backward()\n",
        "    optimizer.step()\n",
        "    return loss\n",
        "\n",
        "def ignite_validation_step(engine, batch):\n",
        "    model.eval()\n",
        "    with torch.no_grad():\n",
        "        x, y = batch\n",
        "        y_pred = model(x)\n",
        "    return y_pred, y"
      ],
      "metadata": {
        "id": "sna0Za0OS884"
      },
      "execution_count": null,
      "outputs": []
    },
    {
      "cell_type": "code",
      "source": [
        "# https://docs.zenml.io/developer-guide/runtime-configuration\n",
        "class zenml_trainer_config(BaseStepConfig):\n",
        "    max_train_epochs: int\n",
        "\n",
        "@step\n",
        "def zenml_trainer(config: zenml_trainer_config, train_dataloader: DataLoader) -> nn.Module:\n",
        "    trainer = Engine(ignite_train_step)\n",
        "    ProgressBar().attach(trainer)\n",
        "    trainer.run(train_dataloader, max_epochs=config.max_train_epochs)\n",
        "    return model\n",
        "\n",
        "@step\n",
        "def zenml_evaluator(test_dataloader: DataLoader, model: nn.Module) -> float:\n",
        "    evaluator = Engine(ignite_validation_step)\n",
        "    Accuracy().attach(evaluator, \"accuracy\")\n",
        "    evaluator.run(test_dataloader)\n",
        "    ignite_metrics = evaluator.state.metrics\n",
        "    print(\"Accuracy: \", ignite_metrics['accuracy'])\n",
        "    return ignite_metrics['accuracy']"
      ],
      "metadata": {
        "id": "Xo8hS2yOVtuW"
      },
      "execution_count": null,
      "outputs": []
    },
    {
      "cell_type": "code",
      "source": [
        "model = Net().to(device)\n",
        "optimizer = optim.SGD(model.parameters(), lr=0.01)\n",
        "\n",
        "@pipeline(required_integrations=[PYTORCH])\n",
        "def zenml_pipeline(\n",
        "    importer,\n",
        "    trainer,\n",
        "    evaluator,\n",
        "):\n",
        "    \"\"\"Link all the steps and artifacts together\"\"\"\n",
        "    train_dataloader, test_dataloader = importer()\n",
        "    model = trainer(train_dataloader)\n",
        "    evaluator(test_dataloader=test_dataloader, model=model)\n",
        "\n",
        "p = zenml_pipeline(\n",
        "    importer=importer_mnist(),\n",
        "    trainer=zenml_trainer(zenml_trainer_config(max_train_epochs=2, )),\n",
        "    evaluator=zenml_evaluator(),\n",
        ")\n",
        "\n",
        "p.run()"
      ],
      "metadata": {
        "id": "sjt0fp6AVxBD"
      },
      "execution_count": null,
      "outputs": []
    },
    {
      "cell_type": "code",
      "source": [
        ""
      ],
      "metadata": {
        "id": "muP7ZsXFV4KZ"
      },
      "execution_count": null,
      "outputs": []
    }
  ]
}